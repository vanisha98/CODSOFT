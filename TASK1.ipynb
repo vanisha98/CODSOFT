{
 "cells": [
  {
   "cell_type": "code",
   "execution_count": null,
   "id": "9651c077-0c71-4952-a45d-b4888358a9a7",
   "metadata": {},
   "outputs": [
    {
     "name": "stdin",
     "output_type": "stream",
     "text": [
      "User:  hello\n"
     ]
    },
    {
     "name": "stdout",
     "output_type": "stream",
     "text": [
      "Chatbot:  Hi! How can I help you today?\n"
     ]
    },
    {
     "name": "stdin",
     "output_type": "stream",
     "text": [
      "User:  how are you\n"
     ]
    },
    {
     "name": "stdout",
     "output_type": "stream",
     "text": [
      "Chatbot:  I'm just a bot, but I'm doing great! How about you?\n"
     ]
    },
    {
     "name": "stdin",
     "output_type": "stream",
     "text": [
      "User:  what is the weather\n"
     ]
    },
    {
     "name": "stdout",
     "output_type": "stream",
     "text": [
      "Chatbot:  I'm just a chatbot, I don't have real-time access to the weather.\n"
     ]
    },
    {
     "name": "stdin",
     "output_type": "stream",
     "text": [
      "User:  goodbye\n"
     ]
    },
    {
     "name": "stdout",
     "output_type": "stream",
     "text": [
      "Chatbot:  Goodbye! See you next time.\n"
     ]
    },
    {
     "name": "stdin",
     "output_type": "stream",
     "text": [
      "User:  sorry\n"
     ]
    },
    {
     "name": "stdout",
     "output_type": "stream",
     "text": [
      "Chatbot:  I didn't understand your query.Please rephrase your question.\n"
     ]
    }
   ],
   "source": [
    "#task 1 \n",
    "import random\n",
    "class Chatbot:\n",
    "    def __init__(self):\n",
    "        self.rules = {\n",
    "            'greet': ['hello', 'hi', 'hey'],\n",
    "            'ask_name': ['how are you'],\n",
    "            'ask_weather': ['what is the weather', 'what is the weather today'],\n",
    "            'goodbye': ['goodbye', 'bye', 'see you'],\n",
    "            'default': ['i didn\\'t understand', 'can you repeat', 'sorry']\n",
    "        }\n",
    "        self.responses = {\n",
    "            'greet': ['Hello! Nice to meet you.', 'Hi! How can I help you today?'],\n",
    "            'ask_name':[\"I'm just a bot, but I'm doing great! How about you?\"] ,\n",
    "            'ask_weather': ['I\\'m just a chatbot, I don\\'t have real-time access to the weather.'],\n",
    "            'goodbye': ['Goodbye! See you next time.', 'Bye! Have a nice day.'],\n",
    "            'default': ['I didn\\'t understand your query.Please rephrase your question.','Can you please repeat your question?']\n",
    "        }\n",
    "\n",
    "    def respond(self, user_input):\n",
    "        user_input = user_input.lower()\n",
    "        for key, values in self.rules.items():\n",
    "            if any(value in user_input for value in values):\n",
    "                return random.choice(self.responses[key])\n",
    "        return random.choice(self.responses['default'])\n",
    "\n",
    "chatbot = Chatbot()\n",
    "while True:\n",
    "    user_input = input(\"User: \")\n",
    "    response = chatbot.respond(user_input)\n",
    "    print(\"Chatbot: \", response)\n",
    "    "
   ]
  },
  {
   "cell_type": "code",
   "execution_count": null,
   "id": "b6841e98-83a7-485d-85d7-1568e46248f7",
   "metadata": {},
   "outputs": [],
   "source": []
  }
 ],
 "metadata": {
  "kernelspec": {
   "display_name": "\"Python/Mu (mu_venv-38-20230110-232131)\"",
   "language": "python",
   "name": "mu_venv-38-20230110-232131"
  },
  "language_info": {
   "codemirror_mode": {
    "name": "ipython",
    "version": 3
   },
   "file_extension": ".py",
   "mimetype": "text/x-python",
   "name": "python",
   "nbconvert_exporter": "python",
   "pygments_lexer": "ipython3",
   "version": "3.8.12"
  }
 },
 "nbformat": 4,
 "nbformat_minor": 5
}
