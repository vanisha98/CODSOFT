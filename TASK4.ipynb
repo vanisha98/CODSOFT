{
 "cells": [
  {
   "cell_type": "code",
   "execution_count": 1,
   "id": "afd23f61-ad39-4b68-b372-e4cef0cd6128",
   "metadata": {},
   "outputs": [
    {
     "name": "stdin",
     "output_type": "stream",
     "text": [
      "Enter your preferred genre:  crime,drama\n"
     ]
    },
    {
     "name": "stdout",
     "output_type": "stream",
     "text": [
      "\n",
      "Recommended Movies based on your genre preference:\n",
      "Genre: Crime,Drama, Avg Rating: 4.8\n",
      "Genre: Action,Crime,Drama, Avg Rating: 4.6\n",
      "Genre: Crime,Drama, Avg Rating: 4.6\n"
     ]
    }
   ],
   "source": [
    "#task 4\n",
    "movies = [\n",
    "    {\"genres\": \"Drama\", \"ratings\": [5, 4, 5, 4, 5]},\n",
    "    {\"genres\": \"Crime,Drama\", \"ratings\": [5, 5, 5, 5, 4]},\n",
    "    {\"genres\": \"Action,Crime,Drama\", \"ratings\": [4, 4, 5, 5, 5]},\n",
    "    {\"genres\": \"Crime,Drama\", \"ratings\": [5, 4, 5, 4, 5]},\n",
    "    {\"genres\": \"Drama,Romance\", \"ratings\": [4, 5, 4, 5, 5]},\n",
    "    {\"genres\": \"Action,Adventure, Sci-Fi\", \"ratings\": [5, 5, 4, 4, 5]},\n",
    "    {\"genres\": \"Action,Sci-Fi\", \"ratings\": [4, 4, 5, 5, 4]},\n",
    "    {\"genres\": \"Drama\", \"ratings\": [4, 5, 5, 4, 5]}\n",
    "]\n",
    "movie_ratings = [sum(movie[\"ratings\"]) / len(movie[\"ratings\"]) for movie in movies]\n",
    "movie_genres = [movie[\"genres\"] for movie in movies]\n",
    "def recommend_movies(user_genre_preference):\n",
    "    recommended_movies = []\n",
    "    for idx in range(len(movies)):\n",
    "        if user_genre_preference.lower() in movie_genres[idx].lower():\n",
    "            recommended_movies.append((movie_genres[idx], movie_ratings[idx]))\n",
    "    if recommended_movies:\n",
    "        print(\"\\nRecommended Movies based on your genre preference:\")\n",
    "        for genres, rating in recommended_movies:\n",
    "            print(f\"Genre: {genres}, Avg Rating: {rating:.1f}\")\n",
    "    else:\n",
    "        print(\"No movies found with that genre.\")\n",
    "user_genre_preference = input(\"Enter your preferred genre: \")  \n",
    "recommend_movies(user_genre_preference)"
   ]
  },
  {
   "cell_type": "code",
   "execution_count": null,
   "id": "69c40554-021a-4d9c-84e4-5ecd09b26000",
   "metadata": {},
   "outputs": [],
   "source": []
  }
 ],
 "metadata": {
  "kernelspec": {
   "display_name": "\"Python/Mu (mu_venv-38-20230110-232131)\"",
   "language": "python",
   "name": "mu_venv-38-20230110-232131"
  },
  "language_info": {
   "codemirror_mode": {
    "name": "ipython",
    "version": 3
   },
   "file_extension": ".py",
   "mimetype": "text/x-python",
   "name": "python",
   "nbconvert_exporter": "python",
   "pygments_lexer": "ipython3",
   "version": "3.8.12"
  }
 },
 "nbformat": 4,
 "nbformat_minor": 5
}
