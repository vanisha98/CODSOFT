{
 "cells": [
  {
   "cell_type": "code",
   "execution_count": 1,
   "id": "184dd54b-970d-4e0d-aff0-40c58cdc36e0",
   "metadata": {},
   "outputs": [
    {
     "name": "stdout",
     "output_type": "stream",
     "text": [
      "Tic-Tac-Toe! You are '0' and AI is 'X'\n",
      "     \n",
      "     \n",
      "     \n",
      "\n"
     ]
    },
    {
     "name": "stdin",
     "output_type": "stream",
     "text": [
      "Enter your move (row and column: 0 1 2):  1 2\n"
     ]
    },
    {
     "name": "stdout",
     "output_type": "stream",
     "text": [
      "     \n",
      "    X\n",
      "     \n",
      "\n",
      "AI is making a move...\n",
      "    O\n",
      "    X\n",
      "     \n",
      "\n"
     ]
    },
    {
     "name": "stdin",
     "output_type": "stream",
     "text": [
      "Enter your move (row and column: 0 1 2):  2 1\n"
     ]
    },
    {
     "name": "stdout",
     "output_type": "stream",
     "text": [
      "    O\n",
      "    X\n",
      "  X  \n",
      "\n",
      "AI is making a move...\n",
      "O   O\n",
      "    X\n",
      "  X  \n",
      "\n"
     ]
    },
    {
     "name": "stdin",
     "output_type": "stream",
     "text": [
      "Enter your move (row and column: 0 1 2):  0 1\n"
     ]
    },
    {
     "name": "stdout",
     "output_type": "stream",
     "text": [
      "O X O\n",
      "    X\n",
      "  X  \n",
      "\n",
      "AI is making a move...\n",
      "O X O\n",
      "  O X\n",
      "  X  \n",
      "\n"
     ]
    },
    {
     "name": "stdin",
     "output_type": "stream",
     "text": [
      "Enter your move (row and column: 0 1 2):  1 0\n"
     ]
    },
    {
     "name": "stdout",
     "output_type": "stream",
     "text": [
      "O X O\n",
      "X O X\n",
      "  X  \n",
      "\n",
      "AI is making a move...\n",
      "O X O\n",
      "X O X\n",
      "O X  \n",
      "\n",
      "O wins!\n"
     ]
    }
   ],
   "source": [
    "#task 2\n",
    "import math\n",
    "\n",
    "def print_board(board):\n",
    "    for row in board:\n",
    "        print(\" \".join(row))\n",
    "    print()\n",
    "\n",
    "def check_winner(board):\n",
    "    for row in board:\n",
    "        if row[0] == row[1] == row[2] and row[0] != \" \":\n",
    "            return row[0]\n",
    "    for col in range(3):\n",
    "        if board[0][col] == board[1][col] == board[2][col] and board[0][col] != \" \":\n",
    "            return board[0][col]\n",
    "    if board[0][0] == board[1][1] == board[2][2] and board[0][0] != \" \":\n",
    "        return board[0][0]\n",
    "    if board[0][2] == board[1][1] == board[2][0] and board[0][2] != \" \":\n",
    "        return board[0][2]\n",
    "    return None\n",
    "\n",
    "def is_moves_left(board):\n",
    "    for row in board:\n",
    "        if \" \" in row:\n",
    "            return True\n",
    "    return False\n",
    "\n",
    "def minimax(board, depth, is_max, alpha, beta):\n",
    "    winner = check_winner(board)\n",
    "    if winner == \"X\":\n",
    "        return -10 + depth\n",
    "    elif winner == \"O\":\n",
    "        return 10 - depth\n",
    "    elif not is_moves_left(board):\n",
    "        return 0\n",
    "\n",
    "    if is_max:\n",
    "        best = -math.inf\n",
    "        for i in range(3):\n",
    "            for j in range(3):\n",
    "                if board[i][j] == \" \":\n",
    "                    board[i][j] = \"O\"\n",
    "                    best = max(best, minimax(board, depth + 1, False, alpha, beta))\n",
    "                    board[i][j] = \" \"\n",
    "                    alpha = max(alpha, best)\n",
    "                    if beta <= alpha:\n",
    "                        break\n",
    "        return best\n",
    "    else:\n",
    "        best = math.inf\n",
    "        for i in range(3):\n",
    "            for j in range(3):\n",
    "                if board[i][j] == \" \":\n",
    "                    board[i][j] = \"X\"\n",
    "                    best = min(best, minimax(board, depth + 1, True, alpha, beta))\n",
    "                    board[i][j] = \" \"\n",
    "                    beta = min(beta, best)\n",
    "                    if beta <= alpha:\n",
    "                        break\n",
    "        return best\n",
    "\n",
    "def find_best_move(board):\n",
    "    best_val = -math.inf\n",
    "    best_move = (-1, -1)\n",
    "    for i in range(3):\n",
    "        for j in range(3):\n",
    "            if board[i][j] == \" \":\n",
    "                board[i][j] = \"O\"\n",
    "                move_val = minimax(board, 0, False, -math.inf, math.inf)\n",
    "                board[i][j] = \" \"\n",
    "                if move_val > best_val:\n",
    "                    best_val = move_val\n",
    "                    best_move = (i, j)\n",
    "    return best_move\n",
    "\n",
    "def play_game():\n",
    "    board = [[\" \" for _ in range(3)] for _ in range(3)]\n",
    "    print(\"Tic-Tac-Toe! You are '0' and AI is 'X'\")\n",
    "    print_board(board)\n",
    "\n",
    "    for _ in range(9):\n",
    "        if check_winner(board) or not is_moves_left(board):\n",
    "            break\n",
    "        \n",
    "        while True:\n",
    "            try:\n",
    "                row, col = map(int, input(\"Enter your move (row and column: 0 1 2): \").split())\n",
    "                if board[row][col] == \" \":\n",
    "                    board[row][col] = \"X\"\n",
    "                    break\n",
    "                else:\n",
    "                    print(\"Invalid move, cell occupied. Try again.\")\n",
    "            except (ValueError, IndexError):\n",
    "                print(\"Invalid input. Enter two numbers between 0 and 2 separated by space.\")\n",
    "        \n",
    "        print_board(board)\n",
    "        if check_winner(board) or not is_moves_left(board):\n",
    "            break\n",
    "\n",
    "        print(\"AI is making a move...\")\n",
    "        ai_move = find_best_move(board)\n",
    "        board[ai_move[0]][ai_move[1]] = \"O\"\n",
    "        print_board(board)\n",
    "\n",
    "    winner = check_winner(board)\n",
    "    if winner:\n",
    "        print(f\"{winner} wins!\")\n",
    "    else:\n",
    "        print(\"It's a draw!\")\n",
    "\n",
    "if __name__ == \"__main__\":\n",
    "    play_game()\n"
   ]
  },
  {
   "cell_type": "code",
   "execution_count": null,
   "id": "bc6c55cb-2c62-4695-b75d-465c06331f67",
   "metadata": {},
   "outputs": [],
   "source": []
  }
 ],
 "metadata": {
  "kernelspec": {
   "display_name": "\"Python/Mu (mu_venv-38-20230110-232131)\"",
   "language": "python",
   "name": "mu_venv-38-20230110-232131"
  },
  "language_info": {
   "codemirror_mode": {
    "name": "ipython",
    "version": 3
   },
   "file_extension": ".py",
   "mimetype": "text/x-python",
   "name": "python",
   "nbconvert_exporter": "python",
   "pygments_lexer": "ipython3",
   "version": "3.8.12"
  }
 },
 "nbformat": 4,
 "nbformat_minor": 5
}
