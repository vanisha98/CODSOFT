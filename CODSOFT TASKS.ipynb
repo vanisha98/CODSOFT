{
 "cells": [
  {
   "cell_type": "code",
   "execution_count": null,
   "id": "5263ec0f-5edc-4172-80ba-ae6a1d1a4bb5",
   "metadata": {},
   "outputs": [
    {
     "name": "stdin",
     "output_type": "stream",
     "text": [
      "User:  hello\n"
     ]
    },
    {
     "name": "stdout",
     "output_type": "stream",
     "text": [
      "Chatbot:  Hi! How can I help you today?\n"
     ]
    },
    {
     "name": "stdin",
     "output_type": "stream",
     "text": [
      "User:  how are you\n"
     ]
    },
    {
     "name": "stdout",
     "output_type": "stream",
     "text": [
      "Chatbot:  I'm just a bot, but I'm doing great! How about you?\n"
     ]
    },
    {
     "name": "stdin",
     "output_type": "stream",
     "text": [
      "User:  what is the weather\n"
     ]
    },
    {
     "name": "stdout",
     "output_type": "stream",
     "text": [
      "Chatbot:  I'm just a chatbot, I don't have real-time access to the weather.\n"
     ]
    },
    {
     "name": "stdin",
     "output_type": "stream",
     "text": [
      "User:  goodbye\n"
     ]
    },
    {
     "name": "stdout",
     "output_type": "stream",
     "text": [
      "Chatbot:  Goodbye! See you next time.\n"
     ]
    },
    {
     "name": "stdin",
     "output_type": "stream",
     "text": [
      "User:  can you repeat\n"
     ]
    },
    {
     "name": "stdout",
     "output_type": "stream",
     "text": [
      "Chatbot:  I didn't understand your query.Please rephrase your question.\n"
     ]
    }
   ],
   "source": [
    "#task 1 \n",
    "import random\n",
    "class Chatbot:\n",
    "    def __init__(self):\n",
    "        self.rules = {\n",
    "            'greet': ['hello', 'hi', 'hey'],\n",
    "            'ask_name': ['how are you'],\n",
    "            'ask_weather': ['what is the weather', 'what is the weather today'],\n",
    "            'goodbye': ['goodbye', 'bye', 'see you'],\n",
    "            'default': ['i didn\\'t understand', 'can you repeat', 'sorry']\n",
    "        }\n",
    "        self.responses = {\n",
    "            'greet': ['Hello! Nice to meet you.', 'Hi! How can I help you today?'],\n",
    "            'ask_name':[\"I'm just a bot, but I'm doing great! How about you?\"] ,\n",
    "            'ask_weather': ['I\\'m just a chatbot, I don\\'t have real-time access to the weather.'],\n",
    "            'goodbye': ['Goodbye! See you next time.', 'Bye! Have a nice day.'],\n",
    "            'default': ['I didn\\'t understand your query.Please rephrase your question.','Can you please repeat your question?']\n",
    "        }\n",
    "\n",
    "    def respond(self, user_input):\n",
    "        user_input = user_input.lower()\n",
    "        for key, values in self.rules.items():\n",
    "            if any(value in user_input for value in values):\n",
    "                return random.choice(self.responses[key])\n",
    "        return random.choice(self.responses['default'])\n",
    "\n",
    "chatbot = Chatbot()\n",
    "while True:\n",
    "    user_input = input(\"User: \")\n",
    "    response = chatbot.respond(user_input)\n",
    "    print(\"Chatbot: \", response)"
   ]
  },
  {
   "cell_type": "code",
   "execution_count": 3,
   "id": "f25c5041-0f69-4e2c-bd87-591dfb06eb5b",
   "metadata": {},
   "outputs": [
    {
     "name": "stdin",
     "output_type": "stream",
     "text": [
      "Enter your preferred genre:  crime,drama\n"
     ]
    },
    {
     "name": "stdout",
     "output_type": "stream",
     "text": [
      "\n",
      "Recommended Movies based on your genre preference:\n",
      "Genre: Crime,Drama, Avg Rating: 4.8\n",
      "Genre: Action,Crime,Drama, Avg Rating: 4.6\n",
      "Genre: Crime,Drama, Avg Rating: 4.6\n"
     ]
    }
   ],
   "source": [
    "#task 4\n",
    "movies = [\n",
    "    {\"genres\": \"Drama\", \"ratings\": [5, 4, 5, 4, 5]},\n",
    "    {\"genres\": \"Crime,Drama\", \"ratings\": [5, 5, 5, 5, 4]},\n",
    "    {\"genres\": \"Action,Crime,Drama\", \"ratings\": [4, 4, 5, 5, 5]},\n",
    "    {\"genres\": \"Crime,Drama\", \"ratings\": [5, 4, 5, 4, 5]},\n",
    "    {\"genres\": \"Drama,Romance\", \"ratings\": [4, 5, 4, 5, 5]},\n",
    "    {\"genres\": \"Action,Adventure, Sci-Fi\", \"ratings\": [5, 5, 4, 4, 5]},\n",
    "    {\"genres\": \"Action,Sci-Fi\", \"ratings\": [4, 4, 5, 5, 4]},\n",
    "    {\"genres\": \"Drama\", \"ratings\": [4, 5, 5, 4, 5]}\n",
    "]\n",
    "movie_ratings = [sum(movie[\"ratings\"]) / len(movie[\"ratings\"]) for movie in movies]\n",
    "movie_genres = [movie[\"genres\"] for movie in movies]\n",
    "def recommend_movies(user_genre_preference):\n",
    "    recommended_movies = []\n",
    "    for idx in range(len(movies)):\n",
    "        if user_genre_preference.lower() in movie_genres[idx].lower():\n",
    "            recommended_movies.append((movie_genres[idx], movie_ratings[idx]))\n",
    "    if recommended_movies:\n",
    "        print(\"\\nRecommended Movies based on your genre preference:\")\n",
    "        for genres, rating in recommended_movies:\n",
    "            print(f\"Genre: {genres}, Avg Rating: {rating:.1f}\")\n",
    "    else:\n",
    "        print(\"No movies found with that genre.\")\n",
    "user_genre_preference = input(\"Enter your preferred genre: \")  \n",
    "recommend_movies(user_genre_preference)"
   ]
  },
  {
   "cell_type": "code",
   "execution_count": 1,
   "id": "be4ae443-973b-42e1-8e9f-ea22d0efe142",
   "metadata": {},
   "outputs": [
    {
     "name": "stdout",
     "output_type": "stream",
     "text": [
      "Tic-Tac-Toe! You are '0' and AI is 'X'\n",
      "     \n",
      "     \n",
      "     \n",
      "\n"
     ]
    },
    {
     "name": "stdin",
     "output_type": "stream",
     "text": [
      "Enter your move (row and column: 0 1 2):  1 2\n"
     ]
    },
    {
     "name": "stdout",
     "output_type": "stream",
     "text": [
      "     \n",
      "    X\n",
      "     \n",
      "\n",
      "AI is making a move...\n",
      "    O\n",
      "    X\n",
      "     \n",
      "\n"
     ]
    },
    {
     "name": "stdin",
     "output_type": "stream",
     "text": [
      "Enter your move (row and column: 0 1 2):  2 1\n"
     ]
    },
    {
     "name": "stdout",
     "output_type": "stream",
     "text": [
      "    O\n",
      "    X\n",
      "  X  \n",
      "\n",
      "AI is making a move...\n",
      "O   O\n",
      "    X\n",
      "  X  \n",
      "\n"
     ]
    },
    {
     "name": "stdin",
     "output_type": "stream",
     "text": [
      "Enter your move (row and column: 0 1 2):  0 1\n"
     ]
    },
    {
     "name": "stdout",
     "output_type": "stream",
     "text": [
      "O X O\n",
      "    X\n",
      "  X  \n",
      "\n",
      "AI is making a move...\n",
      "O X O\n",
      "  O X\n",
      "  X  \n",
      "\n"
     ]
    },
    {
     "name": "stdin",
     "output_type": "stream",
     "text": [
      "Enter your move (row and column: 0 1 2):  1 0\n"
     ]
    },
    {
     "name": "stdout",
     "output_type": "stream",
     "text": [
      "O X O\n",
      "X O X\n",
      "  X  \n",
      "\n",
      "AI is making a move...\n",
      "O X O\n",
      "X O X\n",
      "O X  \n",
      "\n",
      "O wins!\n"
     ]
    }
   ],
   "source": [
    "#task 2\n",
    "import math\n",
    "\n",
    "def print_board(board):\n",
    "    for row in board:\n",
    "        print(\" \".join(row))\n",
    "    print()\n",
    "\n",
    "def check_winner(board):\n",
    "    for row in board:\n",
    "        if row[0] == row[1] == row[2] and row[0] != \" \":\n",
    "            return row[0]\n",
    "    for col in range(3):\n",
    "        if board[0][col] == board[1][col] == board[2][col] and board[0][col] != \" \":\n",
    "            return board[0][col]\n",
    "    if board[0][0] == board[1][1] == board[2][2] and board[0][0] != \" \":\n",
    "        return board[0][0]\n",
    "    if board[0][2] == board[1][1] == board[2][0] and board[0][2] != \" \":\n",
    "        return board[0][2]\n",
    "    return None\n",
    "\n",
    "def is_moves_left(board):\n",
    "    for row in board:\n",
    "        if \" \" in row:\n",
    "            return True\n",
    "    return False\n",
    "\n",
    "def minimax(board, depth, is_max, alpha, beta):\n",
    "    winner = check_winner(board)\n",
    "    if winner == \"X\":\n",
    "        return -10 + depth\n",
    "    elif winner == \"O\":\n",
    "        return 10 - depth\n",
    "    elif not is_moves_left(board):\n",
    "        return 0\n",
    "\n",
    "    if is_max:\n",
    "        best = -math.inf\n",
    "        for i in range(3):\n",
    "            for j in range(3):\n",
    "                if board[i][j] == \" \":\n",
    "                    board[i][j] = \"O\"\n",
    "                    best = max(best, minimax(board, depth + 1, False, alpha, beta))\n",
    "                    board[i][j] = \" \"\n",
    "                    alpha = max(alpha, best)\n",
    "                    if beta <= alpha:\n",
    "                        break\n",
    "        return best\n",
    "    else:\n",
    "        best = math.inf\n",
    "        for i in range(3):\n",
    "            for j in range(3):\n",
    "                if board[i][j] == \" \":\n",
    "                    board[i][j] = \"X\"\n",
    "                    best = min(best, minimax(board, depth + 1, True, alpha, beta))\n",
    "                    board[i][j] = \" \"\n",
    "                    beta = min(beta, best)\n",
    "                    if beta <= alpha:\n",
    "                        break\n",
    "        return best\n",
    "\n",
    "def find_best_move(board):\n",
    "    best_val = -math.inf\n",
    "    best_move = (-1, -1)\n",
    "    for i in range(3):\n",
    "        for j in range(3):\n",
    "            if board[i][j] == \" \":\n",
    "                board[i][j] = \"O\"\n",
    "                move_val = minimax(board, 0, False, -math.inf, math.inf)\n",
    "                board[i][j] = \" \"\n",
    "                if move_val > best_val:\n",
    "                    best_val = move_val\n",
    "                    best_move = (i, j)\n",
    "    return best_move\n",
    "\n",
    "def play_game():\n",
    "    board = [[\" \" for _ in range(3)] for _ in range(3)]\n",
    "    print(\"Tic-Tac-Toe! You are '0' and AI is 'X'\")\n",
    "    print_board(board)\n",
    "\n",
    "    for _ in range(9):\n",
    "        if check_winner(board) or not is_moves_left(board):\n",
    "            break\n",
    "        \n",
    "        while True:\n",
    "            try:\n",
    "                row, col = map(int, input(\"Enter your move (row and column: 0 1 2): \").split())\n",
    "                if board[row][col] == \" \":\n",
    "                    board[row][col] = \"X\"\n",
    "                    break\n",
    "                else:\n",
    "                    print(\"Invalid move, cell occupied. Try again.\")\n",
    "            except (ValueError, IndexError):\n",
    "                print(\"Invalid input. Enter two numbers between 0 and 2 separated by space.\")\n",
    "        \n",
    "        print_board(board)\n",
    "        if check_winner(board) or not is_moves_left(board):\n",
    "            break\n",
    "\n",
    "        print(\"AI is making a move...\")\n",
    "        ai_move = find_best_move(board)\n",
    "        board[ai_move[0]][ai_move[1]] = \"O\"\n",
    "        print_board(board)\n",
    "\n",
    "    winner = check_winner(board)\n",
    "    if winner:\n",
    "        print(f\"{winner} wins!\")\n",
    "    else:\n",
    "        print(\"It's a draw!\")\n",
    "\n",
    "if __name__ == \"__main__\":\n",
    "    play_game()\n"
   ]
  },
  {
   "cell_type": "code",
   "execution_count": null,
   "id": "add9df24-68ae-499e-89d3-8dd53705d862",
   "metadata": {},
   "outputs": [],
   "source": []
  }
 ],
 "metadata": {
  "kernelspec": {
   "display_name": "\"Python/Mu (mu_venv-38-20230110-232131)\"",
   "language": "python",
   "name": "mu_venv-38-20230110-232131"
  },
  "language_info": {
   "codemirror_mode": {
    "name": "ipython",
    "version": 3
   },
   "file_extension": ".py",
   "mimetype": "text/x-python",
   "name": "python",
   "nbconvert_exporter": "python",
   "pygments_lexer": "ipython3",
   "version": "3.8.12"
  }
 },
 "nbformat": 4,
 "nbformat_minor": 5
}
